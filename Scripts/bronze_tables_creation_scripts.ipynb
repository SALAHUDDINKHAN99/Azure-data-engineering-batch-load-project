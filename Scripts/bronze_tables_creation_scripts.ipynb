{
 "cells": [
  {
   "cell_type": "code",
   "execution_count": 0,
   "metadata": {
    "application/vnd.databricks.v1+cell": {
     "cellMetadata": {
      "byteLimit": 2048000,
      "rowLimit": 10000
     },
     "inputWidgets": {},
     "nuid": "fc670833-e89f-4a7c-91ee-9f470c93a9fe",
     "showTitle": false,
     "tableResultSettingsMap": {},
     "title": ""
    }
   },
   "outputs": [],
   "source": [
    "dbutils.widgets.text(\"storage_account_name\", \"\")\n",
    "storage_account_name = dbutils.widgets.get(\"storage_account_name\")\n",
    "\n",
    "dbutils.widgets.text(\"env\", \"\")\n",
    "env = dbutils.widgets.get(\"env\")"
   ]
  },
  {
   "cell_type": "code",
   "execution_count": 0,
   "metadata": {
    "application/vnd.databricks.v1+cell": {
     "cellMetadata": {
      "byteLimit": 2048000,
      "rowLimit": 10000
     },
     "inputWidgets": {},
     "nuid": "d0d7d84a-16b9-4d02-98a2-7459bb407198",
     "showTitle": false,
     "tableResultSettingsMap": {},
     "title": ""
    }
   },
   "outputs": [
    {
     "output_type": "execute_result",
     "data": {
      "text/plain": [
       "DataFrame[]"
      ]
     },
     "execution_count": 4,
     "metadata": {},
     "output_type": "execute_result"
    }
   ],
   "source": [
    "spark.sql(f\"\"\"\n",
    "\n",
    "create database if not exists hive_metastore.{env}_bronze         \n",
    "\"\"\")\n"
   ]
  },
  {
   "cell_type": "code",
   "execution_count": 0,
   "metadata": {
    "application/vnd.databricks.v1+cell": {
     "cellMetadata": {
      "byteLimit": 2048000,
      "rowLimit": 10000
     },
     "inputWidgets": {},
     "nuid": "5254061e-bfb8-451d-94e2-daf0f46cb02f",
     "showTitle": false,
     "tableResultSettingsMap": {},
     "title": ""
    }
   },
   "outputs": [
    {
     "output_type": "execute_result",
     "data": {
      "text/plain": [
       "DataFrame[]"
      ]
     },
     "execution_count": 5,
     "metadata": {},
     "output_type": "execute_result"
    }
   ],
   "source": [
    "spark.sql(f\"\"\"\n",
    "          \n",
    "create or replace table {env}_bronze.fact_transport_diesel (\n",
    "\n",
    "    dist_code string,\n",
    "    month string,\n",
    "    fuel_type_diesel string,\n",
    "    vehicleClass_MotorCycle string,\n",
    "    vehicleClass_MotorCar string,\n",
    "    vehicleClass_AutoRickshaw string,\n",
    "    vehicleClass_Agriculture string,\n",
    "    vehicleClass_others string,\n",
    "    seatCapacity_1_to_3 string,\n",
    "    seatCapacity_4_to_6 string,\n",
    "    seatCapacity_above_6 string,\n",
    "    Brand_new_vehicles string,\n",
    "    `Pre-owned_vehicles` string,\n",
    "    `category_Non-Transport` string,\n",
    "    category_Transport string,\n",
    "    seq_no string,\n",
    "    last_insert_dttm string,\n",
    "    load_id string\n",
    ")      \n",
    "location 'abfss://bronze@{storage_account_name}.dfs.core.windows.net/fact_transport_diesel'    \n",
    "\"\"\")"
   ]
  },
  {
   "cell_type": "code",
   "execution_count": 0,
   "metadata": {
    "application/vnd.databricks.v1+cell": {
     "cellMetadata": {
      "byteLimit": 2048000,
      "rowLimit": 10000
     },
     "inputWidgets": {},
     "nuid": "44d1f459-9676-449f-aa2e-9d41756e294a",
     "showTitle": false,
     "tableResultSettingsMap": {},
     "title": ""
    }
   },
   "outputs": [
    {
     "output_type": "execute_result",
     "data": {
      "text/plain": [
       "DataFrame[]"
      ]
     },
     "execution_count": 6,
     "metadata": {},
     "output_type": "execute_result"
    }
   ],
   "source": [
    "spark.sql(f\"\"\"\n",
    "          \n",
    "create or replace table {env}_bronze.fact_transport_electric (\n",
    "    \n",
    "    dist_code string,\n",
    "    month string,\n",
    "    fuel_type_electric string,\n",
    "    vehicleClass_MotorCycle string,\n",
    "    vehicleClass_MotorCar string,\n",
    "    vehicleClass_AutoRickshaw string,\n",
    "    vehicleClass_Agriculture string,\n",
    "    vehicleClass_others string,\n",
    "    seatCapacity_1_to_3 string,\n",
    "    seatCapacity_4_to_6 string,\n",
    "    seatCapacity_above_6 string,\n",
    "    Brand_new_vehicles string,\n",
    "    `Pre-owned_vehicles` string,\n",
    "    `category_Non-Transport` string,\n",
    "    category_Transport string,\n",
    "    seq_no string, \n",
    "    last_insert_dttm string,\n",
    "    load_id string\n",
    ")      \n",
    "location 'abfss://bronze@{storage_account_name}.dfs.core.windows.net/fact_transport_electric'    \n",
    "\"\"\")"
   ]
  },
  {
   "cell_type": "code",
   "execution_count": 0,
   "metadata": {
    "application/vnd.databricks.v1+cell": {
     "cellMetadata": {
      "byteLimit": 2048000,
      "rowLimit": 10000
     },
     "inputWidgets": {},
     "nuid": "9ee69204-82b4-40af-a64f-44ad89422f25",
     "showTitle": false,
     "tableResultSettingsMap": {},
     "title": ""
    }
   },
   "outputs": [
    {
     "output_type": "execute_result",
     "data": {
      "text/plain": [
       "DataFrame[]"
      ]
     },
     "execution_count": 7,
     "metadata": {},
     "output_type": "execute_result"
    }
   ],
   "source": [
    "spark.sql(f\"\"\"\n",
    "          \n",
    "create or replace table {env}_bronze.fact_transport_others (\n",
    "    \n",
    "    dist_code string,\n",
    "    month string,\n",
    "    fuel_type_others string,\n",
    "    vehicleClass_MotorCycle string,\n",
    "    vehicleClass_MotorCar string,\n",
    "    vehicleClass_AutoRickshaw string,\n",
    "    vehicleClass_Agriculture string,\n",
    "    vehicleClass_others string,\n",
    "    seatCapacity_1_to_3 string,\n",
    "    seatCapacity_4_to_6 string,\n",
    "    seatCapacity_above_6 string,\n",
    "    Brand_new_vehicles string,\n",
    "    `Pre-owned_vehicles` string,\n",
    "    `category_Non-Transport` string,\n",
    "    category_Transport string,\n",
    "    seq_no string,\n",
    "    last_insert_dttm string,\n",
    "    load_id string\n",
    ")      \n",
    "location 'abfss://bronze@{storage_account_name}.dfs.core.windows.net/fact_transport_others'    \n",
    "\"\"\")"
   ]
  },
  {
   "cell_type": "code",
   "execution_count": 0,
   "metadata": {
    "application/vnd.databricks.v1+cell": {
     "cellMetadata": {
      "byteLimit": 2048000,
      "rowLimit": 10000
     },
     "inputWidgets": {},
     "nuid": "f66a20c3-b764-4ba4-a83a-f0b6779a3245",
     "showTitle": false,
     "tableResultSettingsMap": {},
     "title": ""
    }
   },
   "outputs": [
    {
     "output_type": "execute_result",
     "data": {
      "text/plain": [
       "DataFrame[]"
      ]
     },
     "execution_count": 8,
     "metadata": {},
     "output_type": "execute_result"
    }
   ],
   "source": [
    "spark.sql(f\"\"\"\n",
    "          \n",
    "create or replace table {env}_bronze.fact_transport_petrol (\n",
    "    \n",
    "    dist_code string,\n",
    "    month string,\n",
    "    fuel_type_petrol string,\n",
    "    vehicleClass_MotorCycle string,\n",
    "    vehicleClass_MotorCar string,\n",
    "    vehicleClass_AutoRickshaw string,\n",
    "    vehicleClass_Agriculture string,\n",
    "    vehicleClass_others string,\n",
    "    seatCapacity_1_to_3 string,\n",
    "    seatCapacity_4_to_6 string,\n",
    "    seatCapacity_above_6 string,\n",
    "    Brand_new_vehicles string,\n",
    "    `Pre-owned_vehicles` string,\n",
    "    `category_Non-Transport` string,\n",
    "    category_Transport string,\n",
    "    seq_no string,\n",
    "    last_insert_dttm string,\n",
    "    load_id string\n",
    ")      \n",
    "location 'abfss://bronze@{storage_account_name}.dfs.core.windows.net/fact_transport_petrol'    \n",
    "\"\"\")"
   ]
  },
  {
   "cell_type": "code",
   "execution_count": 0,
   "metadata": {
    "application/vnd.databricks.v1+cell": {
     "cellMetadata": {
      "byteLimit": 2048000,
      "rowLimit": 10000
     },
     "inputWidgets": {},
     "nuid": "bff8a563-8c98-44fd-82b2-536e021463c6",
     "showTitle": false,
     "tableResultSettingsMap": {},
     "title": ""
    }
   },
   "outputs": [
    {
     "output_type": "execute_result",
     "data": {
      "text/plain": [
       "DataFrame[]"
      ]
     },
     "execution_count": 17,
     "metadata": {},
     "output_type": "execute_result"
    }
   ],
   "source": [
    "spark.sql(f\"\"\"\n",
    "          \n",
    "create or replace table {env}_bronze.dim_date (\n",
    "    \n",
    "    month string,\n",
    "    Mmm string,\n",
    "    quarter string,\n",
    "    fiscal_year int,\n",
    "    last_insert_dttm string,\n",
    "    load_id string\n",
    ")      \n",
    "location 'abfss://bronze@{storage_account_name}.dfs.core.windows.net/dim_date'    \n",
    "\"\"\")"
   ]
  },
  {
   "cell_type": "code",
   "execution_count": 0,
   "metadata": {
    "application/vnd.databricks.v1+cell": {
     "cellMetadata": {
      "byteLimit": 2048000,
      "rowLimit": 10000
     },
     "inputWidgets": {},
     "nuid": "6b70e6d1-c0b9-431d-8009-102dcbfb0753",
     "showTitle": false,
     "tableResultSettingsMap": {},
     "title": ""
    }
   },
   "outputs": [
    {
     "output_type": "execute_result",
     "data": {
      "text/plain": [
       "DataFrame[]"
      ]
     },
     "execution_count": 19,
     "metadata": {},
     "output_type": "execute_result"
    }
   ],
   "source": [
    "spark.sql(f\"\"\"\n",
    "          \n",
    "create or replace table {env}_bronze.dim_districts (\n",
    "    \n",
    "    dist_code string,\n",
    "    district string,\n",
    "    last_insert_dttm string,\n",
    "    load_id string\n",
    ")      \n",
    "location 'abfss://bronze@{storage_account_name}.dfs.core.windows.net/dim_districts'    \n",
    "\"\"\")"
   ]
  },
  {
   "cell_type": "code",
   "execution_count": 0,
   "metadata": {
    "application/vnd.databricks.v1+cell": {
     "cellMetadata": {
      "byteLimit": 2048000,
      "rowLimit": 10000
     },
     "inputWidgets": {},
     "nuid": "fa4c5d2e-e6b8-41cc-bb62-96b6134064b9",
     "showTitle": false,
     "tableResultSettingsMap": {},
     "title": ""
    }
   },
   "outputs": [
    {
     "output_type": "execute_result",
     "data": {
      "text/plain": [
       "DataFrame[]"
      ]
     },
     "execution_count": 21,
     "metadata": {},
     "output_type": "execute_result"
    }
   ],
   "source": [
    "spark.sql(f\"\"\"\n",
    "          \n",
    "create or replace table {env}_bronze.fact_stamps (\n",
    "    \n",
    "    dist_code string,\n",
    "    month string,\n",
    "    documents_registered_cnt int,\n",
    "    documents_registered_rev double,\n",
    "    estamps_challans_cnt int,\n",
    "    estamps_challans_rev int,\n",
    "    last_insert_dttm string,\n",
    "    load_id string\n",
    ")      \n",
    "location 'abfss://bronze@{storage_account_name}.dfs.core.windows.net/fact_stamps'    \n",
    "\"\"\")"
   ]
  },
  {
   "cell_type": "code",
   "execution_count": 0,
   "metadata": {
    "application/vnd.databricks.v1+cell": {
     "cellMetadata": {
      "byteLimit": 2048000,
      "rowLimit": 10000
     },
     "inputWidgets": {},
     "nuid": "b3d73be9-69db-4525-9bbd-721acf834f23",
     "showTitle": false,
     "tableResultSettingsMap": {},
     "title": ""
    }
   },
   "outputs": [
    {
     "output_type": "execute_result",
     "data": {
      "text/plain": [
       "DataFrame[]"
      ]
     },
     "execution_count": 23,
     "metadata": {},
     "output_type": "execute_result"
    }
   ],
   "source": [
    "spark.sql(f\"\"\"\n",
    "          \n",
    "create or replace table {env}_bronze.fact_ts_ipass (\n",
    "    \n",
    "    dist_code string,\n",
    "    month string,\n",
    "    sector string,\n",
    "    investment_in_cr double,\n",
    "    number_of_employees int,\n",
    "    last_insert_dttm string,\n",
    "    load_id string\n",
    ")      \n",
    "location 'abfss://bronze@{storage_account_name}.dfs.core.windows.net/fact_ts_ipass'    \n",
    "\"\"\")"
   ]
  },
  {
   "cell_type": "code",
   "execution_count": 0,
   "metadata": {
    "application/vnd.databricks.v1+cell": {
     "cellMetadata": {},
     "inputWidgets": {},
     "nuid": "b8212d0d-ece7-47fb-af73-ec582469b51b",
     "showTitle": false,
     "tableResultSettingsMap": {},
     "title": ""
    }
   },
   "outputs": [],
   "source": []
  }
 ],
 "metadata": {
  "application/vnd.databricks.v1+notebook": {
   "computePreferences": null,
   "dashboards": [],
   "environmentMetadata": null,
   "language": "python",
   "notebookMetadata": {
    "pythonIndentUnit": 4
   },
   "notebookName": "bronze_tables_creation_scripts",
   "widgets": {
    "env": {
     "currentValue": "",
     "nuid": "2a29c8e0-0d54-472b-bb94-8631e1c4ba2f",
     "typedWidgetInfo": {
      "autoCreated": false,
      "defaultValue": "",
      "label": null,
      "name": "env",
      "options": {
       "widgetDisplayType": "Text",
       "validationRegex": null
      },
      "parameterDataType": "String"
     },
     "widgetInfo": {
      "widgetType": "text",
      "defaultValue": "",
      "label": null,
      "name": "env",
      "options": {
       "widgetType": "text",
       "autoCreated": null,
       "validationRegex": null
      }
     }
    },
    "storage_account_name": {
     "currentValue": "",
     "nuid": "ff0d49e6-3bb4-45ef-bf03-548709d370a3",
     "typedWidgetInfo": {
      "autoCreated": false,
      "defaultValue": "",
      "label": null,
      "name": "storage_account_name",
      "options": {
       "widgetDisplayType": "Text",
       "validationRegex": null
      },
      "parameterDataType": "String"
     },
     "widgetInfo": {
      "widgetType": "text",
      "defaultValue": "",
      "label": null,
      "name": "storage_account_name",
      "options": {
       "widgetType": "text",
       "autoCreated": null,
       "validationRegex": null
      }
     }
    }
   }
  },
  "language_info": {
   "name": "python"
  }
 },
 "nbformat": 4,
 "nbformat_minor": 0
}