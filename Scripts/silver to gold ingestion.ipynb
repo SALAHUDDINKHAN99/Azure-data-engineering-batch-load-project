{
 "cells": [
  {
   "cell_type": "code",
   "execution_count": 0,
   "metadata": {
    "application/vnd.databricks.v1+cell": {
     "cellMetadata": {
      "byteLimit": 2048000,
      "rowLimit": 10000
     },
     "inputWidgets": {},
     "nuid": "30c2e477-f759-491a-8237-a9f1e21cb1c6",
     "showTitle": false,
     "tableResultSettingsMap": {},
     "title": ""
    }
   },
   "outputs": [],
   "source": [
    "dbutils.widgets.text(\"gold_table\", \"\")\n",
    "gold_table = dbutils.widgets.get(\"gold_table\")\n",
    "\n",
    "dbutils.widgets.text(\"gold_schema\", \"\")\n",
    "gold_schema = dbutils.widgets.get(\"gold_schema\")\n",
    "\n",
    "dbutils.widgets.text(\"silver_table\", \"\")\n",
    "silver_table = dbutils.widgets.get(\"silver_table\")\n",
    "\n",
    "dbutils.widgets.text(\"silver_schema\", \"\")\n",
    "silver_schema = dbutils.widgets.get(\"silver_schema\")\n",
    "\n",
    "dbutils.widgets.text(\"LoadID\", \"\")\n",
    "LoadID = dbutils.widgets.get(\"LoadID\")\n",
    "\n",
    "dbutils.widgets.text(\"source\", \"\")\n",
    "source = dbutils.widgets.get(\"source\")\n"
   ]
  },
  {
   "cell_type": "code",
   "execution_count": 0,
   "metadata": {
    "application/vnd.databricks.v1+cell": {
     "cellMetadata": {},
     "inputWidgets": {},
     "nuid": "66050f6d-b69d-47f4-818a-0a6524ee7c23",
     "showTitle": false,
     "tableResultSettingsMap": {},
     "title": ""
    }
   },
   "outputs": [],
   "source": [
    "if(source == 'sftp_host'):\n",
    "    df = spark.sql(f\"\"\"\n",
    "\n",
    "        with \n",
    "        temp_petrol as (select * from {silver_schema}.fact_transport_petrol where load_id = '{LoadID}'),\n",
    "        temp_diesel as (select * from {silver_schema}.fact_transport_diesel where load_id = '{LoadID}'),\n",
    "        temp_electric as (select * from {silver_schema}.fact_transport_electric where load_id = '{LoadID}'),\n",
    "        temp_others as (select * from {silver_schema}.fact_transport_others where load_id = '{LoadID}')\n",
    "\n",
    "        select \n",
    "        temp_petrol.dist_code,\n",
    "        temp_petrol.month, \n",
    "        temp_petrol.fuel_type_petrol, \n",
    "        temp_diesel.fuel_type_diesel, \n",
    "        temp_electric.fuel_type_electric, \n",
    "        temp_others.fuel_type_others, \n",
    "        temp_petrol.vehicleClass_MotorCycle,\n",
    "        temp_petrol.vehicleClass_MotorCar,\n",
    "        temp_petrol.vehicleClass_AutoRickshaw,\n",
    "        temp_petrol.vehicleClass_Agriculture,\n",
    "        temp_petrol.vehicleClass_others,\n",
    "        temp_petrol.seatCapacity_1_to_3,\n",
    "        temp_petrol.seatCapacity_4_to_6,\n",
    "        temp_petrol.seatCapacity_above_6,\n",
    "        temp_petrol.Brand_new_vehicles,\n",
    "        temp_petrol.`Pre-owned_vehicles`,\n",
    "        temp_petrol.`category_Non-Transport`,\n",
    "        temp_petrol.category_Transport,\n",
    "        temp_petrol.seq_no,\n",
    "        from_utc_timestamp(now(), 'IST') as last_insert_dttm,\n",
    "        temp_petrol.load_id\n",
    "        from temp_petrol join temp_diesel on temp_petrol.seq_no = temp_diesel.seq_no \n",
    "        join temp_electric on temp_diesel.seq_no = temp_electric.seq_no \n",
    "        join temp_others on temp_electric.seq_no = temp_others.seq_no\n",
    "    \"\"\")\n",
    "    "
   ]
  },
  {
   "cell_type": "code",
   "execution_count": 0,
   "metadata": {
    "application/vnd.databricks.v1+cell": {
     "cellMetadata": {},
     "inputWidgets": {},
     "nuid": "d5778473-8936-482a-b9ca-fc6a5e29cc7b",
     "showTitle": false,
     "tableResultSettingsMap": {},
     "title": ""
    }
   },
   "outputs": [],
   "source": [
    "if(source == 'mysql_host'):\n",
    "    df = spark.sql(f\"select * from {silver_schema}.{silver_table}\")"
   ]
  },
  {
   "cell_type": "code",
   "execution_count": 0,
   "metadata": {
    "application/vnd.databricks.v1+cell": {
     "cellMetadata": {},
     "inputWidgets": {},
     "nuid": "01b67125-b7cc-4a74-8e60-b5136fc056a7",
     "showTitle": false,
     "tableResultSettingsMap": {},
     "title": ""
    }
   },
   "outputs": [],
   "source": [
    "#insert silver layer table records into gold layer table records\n",
    "df.write.mode('overwrite').saveAsTable(f\"{gold_schema}.{gold_table}\")\n",
    "\n",
    "gold_table_record_count = df.count()"
   ]
  },
  {
   "cell_type": "code",
   "execution_count": 0,
   "metadata": {
    "application/vnd.databricks.v1+cell": {
     "cellMetadata": {},
     "inputWidgets": {},
     "nuid": "3d4b64ee-0a24-486e-9828-fb514c6b22df",
     "showTitle": false,
     "tableResultSettingsMap": {},
     "title": ""
    }
   },
   "outputs": [],
   "source": [
    "#return records to azure data factory\n",
    "dbutils.notebook.exit(gold_table_record_count)"
   ]
  },
  {
   "cell_type": "code",
   "execution_count": 0,
   "metadata": {
    "application/vnd.databricks.v1+cell": {
     "cellMetadata": {},
     "inputWidgets": {},
     "nuid": "2727283f-4e87-43fc-8554-47f71aba2620",
     "showTitle": false,
     "tableResultSettingsMap": {},
     "title": ""
    }
   },
   "outputs": [],
   "source": []
  }
 ],
 "metadata": {
  "application/vnd.databricks.v1+notebook": {
   "computePreferences": null,
   "dashboards": [],
   "environmentMetadata": null,
   "language": "python",
   "notebookMetadata": {
    "pythonIndentUnit": 4
   },
   "notebookName": "silver to gold ingestion",
   "widgets": {
    "LoadID": {
     "currentValue": "",
     "nuid": "164bf3c2-f359-418b-938c-3b8e6360ab4f",
     "typedWidgetInfo": {
      "autoCreated": false,
      "defaultValue": "",
      "label": null,
      "name": "LoadID",
      "options": {
       "widgetDisplayType": "Text",
       "validationRegex": null
      },
      "parameterDataType": "String"
     },
     "widgetInfo": {
      "widgetType": "text",
      "defaultValue": "",
      "label": null,
      "name": "LoadID",
      "options": {
       "widgetType": "text",
       "autoCreated": null,
       "validationRegex": null
      }
     }
    },
    "gold_schema": {
     "currentValue": "",
     "nuid": "477ff38c-c332-4020-a112-0fa22f1753f7",
     "typedWidgetInfo": {
      "autoCreated": false,
      "defaultValue": "",
      "label": null,
      "name": "gold_schema",
      "options": {
       "widgetDisplayType": "Text",
       "validationRegex": null
      },
      "parameterDataType": "String"
     },
     "widgetInfo": {
      "widgetType": "text",
      "defaultValue": "",
      "label": null,
      "name": "gold_schema",
      "options": {
       "widgetType": "text",
       "autoCreated": null,
       "validationRegex": null
      }
     }
    },
    "gold_table": {
     "currentValue": "",
     "nuid": "d4955fb1-4049-470e-aad3-c74ed85244ae",
     "typedWidgetInfo": {
      "autoCreated": false,
      "defaultValue": "",
      "label": null,
      "name": "gold_table",
      "options": {
       "widgetDisplayType": "Text",
       "validationRegex": null
      },
      "parameterDataType": "String"
     },
     "widgetInfo": {
      "widgetType": "text",
      "defaultValue": "",
      "label": null,
      "name": "gold_table",
      "options": {
       "widgetType": "text",
       "autoCreated": null,
       "validationRegex": null
      }
     }
    },
    "silver_schema": {
     "currentValue": "",
     "nuid": "e7de3fad-4b4e-44b5-8822-47cb99408dd9",
     "typedWidgetInfo": {
      "autoCreated": false,
      "defaultValue": "",
      "label": null,
      "name": "silver_schema",
      "options": {
       "widgetDisplayType": "Text",
       "validationRegex": null
      },
      "parameterDataType": "String"
     },
     "widgetInfo": {
      "widgetType": "text",
      "defaultValue": "",
      "label": null,
      "name": "silver_schema",
      "options": {
       "widgetType": "text",
       "autoCreated": null,
       "validationRegex": null
      }
     }
    },
    "silver_table": {
     "currentValue": "",
     "nuid": "1ca54983-d08b-450e-8da0-e3edbd090ec0",
     "typedWidgetInfo": {
      "autoCreated": false,
      "defaultValue": "",
      "label": null,
      "name": "silver_table",
      "options": {
       "widgetDisplayType": "Text",
       "validationRegex": null
      },
      "parameterDataType": "String"
     },
     "widgetInfo": {
      "widgetType": "text",
      "defaultValue": "",
      "label": null,
      "name": "silver_table",
      "options": {
       "widgetType": "text",
       "autoCreated": null,
       "validationRegex": null
      }
     }
    },
    "source": {
     "currentValue": "",
     "nuid": "836df956-0d96-4a64-aa49-b94e4ba9f8e5",
     "typedWidgetInfo": {
      "autoCreated": false,
      "defaultValue": "",
      "label": null,
      "name": "source",
      "options": {
       "widgetDisplayType": "Text",
       "validationRegex": null
      },
      "parameterDataType": "String"
     },
     "widgetInfo": {
      "widgetType": "text",
      "defaultValue": "",
      "label": null,
      "name": "source",
      "options": {
       "widgetType": "text",
       "autoCreated": null,
       "validationRegex": null
      }
     }
    }
   }
  },
  "language_info": {
   "name": "python"
  }
 },
 "nbformat": 4,
 "nbformat_minor": 0
}