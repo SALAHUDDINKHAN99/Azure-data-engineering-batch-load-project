{
 "cells": [
  {
   "cell_type": "code",
   "execution_count": 0,
   "metadata": {
    "application/vnd.databricks.v1+cell": {
     "cellMetadata": {
      "byteLimit": 2048000,
      "rowLimit": 10000
     },
     "inputWidgets": {},
     "nuid": "189dd3e6-dda5-4753-b75f-6185224c1547",
     "showTitle": false,
     "tableResultSettingsMap": {},
     "title": ""
    }
   },
   "outputs": [],
   "source": [
    "dbutils.widgets.text(\"storage_account_name\", \"\")\n",
    "storage_account_name = dbutils.widgets.get(\"storage_account_name\")\n",
    "\n",
    "dbutils.widgets.text(\"env\", \"\")\n",
    "env = dbutils.widgets.get(\"env\")"
   ]
  },
  {
   "cell_type": "code",
   "execution_count": 0,
   "metadata": {
    "application/vnd.databricks.v1+cell": {
     "cellMetadata": {
      "byteLimit": 2048000,
      "rowLimit": 10000
     },
     "inputWidgets": {},
     "nuid": "7660cd84-37a2-4f75-9629-82af83dd11b0",
     "showTitle": false,
     "tableResultSettingsMap": {},
     "title": ""
    }
   },
   "outputs": [
    {
     "output_type": "execute_result",
     "data": {
      "text/plain": [
       "DataFrame[]"
      ]
     },
     "execution_count": 24,
     "metadata": {},
     "output_type": "execute_result"
    }
   ],
   "source": [
    "spark.sql(f\"\"\"\n",
    "\n",
    "create database if not exists hive_metastore.{env}_silver      \n",
    "\"\"\")\n"
   ]
  },
  {
   "cell_type": "code",
   "execution_count": 0,
   "metadata": {
    "application/vnd.databricks.v1+cell": {
     "cellMetadata": {
      "byteLimit": 2048000,
      "rowLimit": 10000
     },
     "inputWidgets": {},
     "nuid": "9332d4c3-9621-4422-b4be-d5685c295296",
     "showTitle": false,
     "tableResultSettingsMap": {},
     "title": ""
    }
   },
   "outputs": [
    {
     "output_type": "execute_result",
     "data": {
      "text/plain": [
       "DataFrame[]"
      ]
     },
     "execution_count": 25,
     "metadata": {},
     "output_type": "execute_result"
    }
   ],
   "source": [
    "spark.sql(f\"\"\"\n",
    "create or replace table {env}_silver.fact_transport_petrol (\n",
    "\n",
    "    dist_code string,\n",
    "    month date,\n",
    "    fuel_type_petrol int,\n",
    "    vehicleClass_MotorCycle int,\n",
    "    vehicleClass_MotorCar int,\n",
    "    vehicleClass_AutoRickshaw int,\n",
    "    vehicleClass_Agriculture int,\n",
    "    vehicleClass_others int,\n",
    "    seatCapacity_1_to_3 int,\n",
    "    seatCapacity_4_to_6 int,\n",
    "    seatCapacity_above_6 int,\n",
    "    Brand_new_vehicles int,\n",
    "    `Pre-owned_vehicles` int,\n",
    "    `category_Non-Transport` int,\n",
    "    category_Transport int,\n",
    "    seq_no int,\n",
    "    last_insert_dttm timestamp,\n",
    "    load_id string\n",
    ")      \n",
    "location 'abfss://silver@{storage_account_name}.dfs.core.windows.net/fact_transport_petrol'    \n",
    "\"\"\")"
   ]
  },
  {
   "cell_type": "code",
   "execution_count": 0,
   "metadata": {
    "application/vnd.databricks.v1+cell": {
     "cellMetadata": {
      "byteLimit": 2048000,
      "rowLimit": 10000
     },
     "inputWidgets": {},
     "nuid": "67af3caf-5b57-48ef-9944-49a9fb023bb2",
     "showTitle": false,
     "tableResultSettingsMap": {},
     "title": ""
    }
   },
   "outputs": [
    {
     "output_type": "execute_result",
     "data": {
      "text/plain": [
       "DataFrame[]"
      ]
     },
     "execution_count": 26,
     "metadata": {},
     "output_type": "execute_result"
    }
   ],
   "source": [
    "spark.sql(f\"\"\"\n",
    "          \n",
    "create or replace table {env}_silver.fact_transport_diesel (\n",
    "\n",
    "    dist_code string,\n",
    "    month date,\n",
    "    fuel_type_diesel int,\n",
    "    vehicleClass_MotorCycle int,\n",
    "    vehicleClass_MotorCar int,\n",
    "    vehicleClass_AutoRickshaw int,\n",
    "    vehicleClass_Agriculture int,\n",
    "    vehicleClass_others int,\n",
    "    seatCapacity_1_to_3 int,\n",
    "    seatCapacity_4_to_6 int,\n",
    "    seatCapacity_above_6 int,\n",
    "    Brand_new_vehicles int,\n",
    "    `Pre-owned_vehicles` int,\n",
    "    `category_Non-Transport` int,\n",
    "    category_Transport int,\n",
    "    seq_no int,\n",
    "    last_insert_dttm timestamp,\n",
    "    load_id string\n",
    ")      \n",
    "location 'abfss://silver@{storage_account_name}.dfs.core.windows.net/fact_transport_diesel'    \n",
    "\"\"\")"
   ]
  },
  {
   "cell_type": "code",
   "execution_count": 0,
   "metadata": {
    "application/vnd.databricks.v1+cell": {
     "cellMetadata": {
      "byteLimit": 2048000,
      "rowLimit": 10000
     },
     "inputWidgets": {},
     "nuid": "9ba027b2-67e1-46ff-8f3a-44d8c35618a2",
     "showTitle": false,
     "tableResultSettingsMap": {},
     "title": ""
    }
   },
   "outputs": [
    {
     "output_type": "execute_result",
     "data": {
      "text/plain": [
       "DataFrame[]"
      ]
     },
     "execution_count": 27,
     "metadata": {},
     "output_type": "execute_result"
    }
   ],
   "source": [
    "spark.sql(f\"\"\"\n",
    "          \n",
    "create or replace table {env}_silver.fact_transport_electric (\n",
    "\n",
    "    dist_code string,\n",
    "    month date,\n",
    "    fuel_type_electric int,\n",
    "    vehicleClass_MotorCycle int,\n",
    "    vehicleClass_MotorCar int,\n",
    "    vehicleClass_AutoRickshaw int,\n",
    "    vehicleClass_Agriculture int,\n",
    "    vehicleClass_others int,\n",
    "    seatCapacity_1_to_3 int,\n",
    "    seatCapacity_4_to_6 int,\n",
    "    seatCapacity_above_6 int,\n",
    "    Brand_new_vehicles int,\n",
    "    `Pre-owned_vehicles` int,\n",
    "    `category_Non-Transport` int,\n",
    "    category_Transport int,\n",
    "    seq_no int,\n",
    "    last_insert_dttm timestamp,\n",
    "    load_id string\n",
    ")      \n",
    "location 'abfss://silver@{storage_account_name}.dfs.core.windows.net/fact_transport_electric'    \n",
    "\"\"\")"
   ]
  },
  {
   "cell_type": "code",
   "execution_count": 0,
   "metadata": {
    "application/vnd.databricks.v1+cell": {
     "cellMetadata": {
      "byteLimit": 2048000,
      "rowLimit": 10000
     },
     "inputWidgets": {},
     "nuid": "4fc1dfdd-6388-4cce-ac6b-221e14b5733b",
     "showTitle": false,
     "tableResultSettingsMap": {},
     "title": ""
    }
   },
   "outputs": [
    {
     "output_type": "execute_result",
     "data": {
      "text/plain": [
       "DataFrame[]"
      ]
     },
     "execution_count": 28,
     "metadata": {},
     "output_type": "execute_result"
    }
   ],
   "source": [
    "spark.sql(f\"\"\"\n",
    "          \n",
    "create or replace table {env}_silver.fact_transport_others (\n",
    "\n",
    "    dist_code string,\n",
    "    month date,\n",
    "    fuel_type_others int,\n",
    "    vehicleClass_MotorCycle int,\n",
    "    vehicleClass_MotorCar int,\n",
    "    vehicleClass_AutoRickshaw int,\n",
    "    vehicleClass_Agriculture int,\n",
    "    vehicleClass_others int,\n",
    "    seatCapacity_1_to_3 int,\n",
    "    seatCapacity_4_to_6 int,\n",
    "    seatCapacity_above_6 int,\n",
    "    Brand_new_vehicles int,\n",
    "    `Pre-owned_vehicles` int,\n",
    "    `category_Non-Transport` int,\n",
    "    category_Transport int,\n",
    "    seq_no int,\n",
    "    last_insert_dttm timestamp,\n",
    "    load_id string\n",
    ")      \n",
    "location 'abfss://silver@{storage_account_name}.dfs.core.windows.net/fact_transport_others'    \n",
    "\"\"\")"
   ]
  },
  {
   "cell_type": "code",
   "execution_count": 0,
   "metadata": {
    "application/vnd.databricks.v1+cell": {
     "cellMetadata": {
      "byteLimit": 2048000,
      "rowLimit": 10000
     },
     "inputWidgets": {},
     "nuid": "1b3e6440-8993-4887-934c-7f657c272416",
     "showTitle": false,
     "tableResultSettingsMap": {},
     "title": ""
    }
   },
   "outputs": [
    {
     "output_type": "execute_result",
     "data": {
      "text/plain": [
       "DataFrame[]"
      ]
     },
     "execution_count": 29,
     "metadata": {},
     "output_type": "execute_result"
    }
   ],
   "source": [
    "spark.sql(f\"\"\"\n",
    "          \n",
    "create or replace table {env}_silver.dim_date (\n",
    "    \n",
    "    month date,\n",
    "    Mmm string,\n",
    "    quarter string,\n",
    "    fiscal_year int,\n",
    "    last_insert_dttm timestamp,\n",
    "    load_id string\n",
    ")      \n",
    "location 'abfss://silver@{storage_account_name}.dfs.core.windows.net/dim_date'    \n",
    "\"\"\")"
   ]
  },
  {
   "cell_type": "code",
   "execution_count": 0,
   "metadata": {
    "application/vnd.databricks.v1+cell": {
     "cellMetadata": {
      "byteLimit": 2048000,
      "rowLimit": 10000
     },
     "inputWidgets": {},
     "nuid": "32f93ed4-fb8d-46ed-8d71-c9861fe6a83c",
     "showTitle": false,
     "tableResultSettingsMap": {},
     "title": ""
    }
   },
   "outputs": [
    {
     "output_type": "execute_result",
     "data": {
      "text/plain": [
       "DataFrame[]"
      ]
     },
     "execution_count": 30,
     "metadata": {},
     "output_type": "execute_result"
    }
   ],
   "source": [
    "spark.sql(f\"\"\"\n",
    "          \n",
    "create or replace table {env}_silver.dim_districts (\n",
    "    \n",
    "    dist_code string,\n",
    "    district string,\n",
    "    last_insert_dttm timestamp,\n",
    "    load_id string\n",
    ")      \n",
    "location 'abfss://silver@{storage_account_name}.dfs.core.windows.net/dim_districts'    \n",
    "\"\"\")"
   ]
  },
  {
   "cell_type": "code",
   "execution_count": 0,
   "metadata": {
    "application/vnd.databricks.v1+cell": {
     "cellMetadata": {
      "byteLimit": 2048000,
      "rowLimit": 10000
     },
     "inputWidgets": {},
     "nuid": "4064f4e6-7ae3-4e7f-a3bd-c4f13ed79810",
     "showTitle": false,
     "tableResultSettingsMap": {},
     "title": ""
    }
   },
   "outputs": [
    {
     "output_type": "execute_result",
     "data": {
      "text/plain": [
       "DataFrame[]"
      ]
     },
     "execution_count": 31,
     "metadata": {},
     "output_type": "execute_result"
    }
   ],
   "source": [
    "spark.sql(f\"\"\"\n",
    "          \n",
    "create or replace table {env}_silver.fact_stamps (\n",
    "    \n",
    "    dist_code string,\n",
    "    month date,\n",
    "    documents_registered_cnt int,\n",
    "    documents_registered_rev double,\n",
    "    estamps_challans_cnt int,\n",
    "    estamps_challans_rev int,\n",
    "    last_insert_dttm timestamp,\n",
    "    load_id string\n",
    ")      \n",
    "location 'abfss://silver@{storage_account_name}.dfs.core.windows.net/fact_stamps'    \n",
    "\"\"\")"
   ]
  },
  {
   "cell_type": "code",
   "execution_count": 0,
   "metadata": {
    "application/vnd.databricks.v1+cell": {
     "cellMetadata": {
      "byteLimit": 2048000,
      "rowLimit": 10000
     },
     "inputWidgets": {},
     "nuid": "bccaae2a-0c75-434b-9d63-d49010945545",
     "showTitle": false,
     "tableResultSettingsMap": {},
     "title": ""
    }
   },
   "outputs": [
    {
     "output_type": "execute_result",
     "data": {
      "text/plain": [
       "DataFrame[]"
      ]
     },
     "execution_count": 32,
     "metadata": {},
     "output_type": "execute_result"
    }
   ],
   "source": [
    "spark.sql(f\"\"\"\n",
    "          \n",
    "create or replace table {env}_silver.fact_ts_ipass (\n",
    "    \n",
    "    dist_code string,\n",
    "    month date,\n",
    "    sector string,\n",
    "    investment_in_cr double,\n",
    "    number_of_employees int,\n",
    "    last_insert_dttm timestamp,\n",
    "    load_id string\n",
    ")      \n",
    "location 'abfss://silver@{storage_account_name}.dfs.core.windows.net/fact_ts_ipass'    \n",
    "\"\"\")"
   ]
  },
  {
   "cell_type": "code",
   "execution_count": 0,
   "metadata": {
    "application/vnd.databricks.v1+cell": {
     "cellMetadata": {
      "byteLimit": 2048000,
      "rowLimit": 10000
     },
     "inputWidgets": {},
     "nuid": "53757fa7-7983-41bb-8805-9dab758adac0",
     "showTitle": false,
     "tableResultSettingsMap": {},
     "title": ""
    }
   },
   "outputs": [],
   "source": []
  }
 ],
 "metadata": {
  "application/vnd.databricks.v1+notebook": {
   "computePreferences": null,
   "dashboards": [],
   "environmentMetadata": null,
   "language": "python",
   "notebookMetadata": {
    "pythonIndentUnit": 4
   },
   "notebookName": "silver_tables_creation_scripts",
   "widgets": {
    "env": {
     "currentValue": "",
     "nuid": "6ebd7eed-96ee-495d-bb15-a99a1b283100",
     "typedWidgetInfo": {
      "autoCreated": false,
      "defaultValue": "",
      "label": null,
      "name": "env",
      "options": {
       "widgetDisplayType": "Text",
       "validationRegex": null
      },
      "parameterDataType": "String"
     },
     "widgetInfo": {
      "widgetType": "text",
      "defaultValue": "",
      "label": null,
      "name": "env",
      "options": {
       "widgetType": "text",
       "autoCreated": null,
       "validationRegex": null
      }
     }
    },
    "storage_account_name": {
     "currentValue": "",
     "nuid": "c251879d-a11a-44e9-9640-22a084ddd968",
     "typedWidgetInfo": {
      "autoCreated": false,
      "defaultValue": "",
      "label": null,
      "name": "storage_account_name",
      "options": {
       "widgetDisplayType": "Text",
       "validationRegex": null
      },
      "parameterDataType": "String"
     },
     "widgetInfo": {
      "widgetType": "text",
      "defaultValue": "",
      "label": null,
      "name": "storage_account_name",
      "options": {
       "widgetType": "text",
       "autoCreated": null,
       "validationRegex": null
      }
     }
    }
   }
  },
  "language_info": {
   "name": "python"
  }
 },
 "nbformat": 4,
 "nbformat_minor": 0
}