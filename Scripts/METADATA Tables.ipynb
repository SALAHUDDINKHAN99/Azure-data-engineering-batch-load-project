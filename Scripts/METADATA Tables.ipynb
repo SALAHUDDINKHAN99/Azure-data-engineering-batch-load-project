{
 "cells": [
  {
   "cell_type": "code",
   "execution_count": 0,
   "metadata": {
    "application/vnd.databricks.v1+cell": {
     "cellMetadata": {},
     "inputWidgets": {},
     "nuid": "b02c9c8c-c2b5-4c02-8c7c-08d02cb68335",
     "showTitle": false,
     "tableResultSettingsMap": {},
     "title": ""
    }
   },
   "outputs": [],
   "source": [
    "dbutils.widgets.text(\"storage_account_name\", \"\")\n",
    "storage_account_name = dbutils.widgets.get(\"storage_account_name\")"
   ]
  },
  {
   "cell_type": "markdown",
   "metadata": {
    "application/vnd.databricks.v1+cell": {
     "cellMetadata": {},
     "inputWidgets": {},
     "nuid": "911d00e7-48ad-4f3b-823e-0b28e3ccfdb5",
     "showTitle": false,
     "tableResultSettingsMap": {},
     "title": ""
    }
   },
   "source": [
    "\n",
    "### Let's create schema (metadata_schema) under hive_metastore catalog"
   ]
  },
  {
   "cell_type": "code",
   "execution_count": 0,
   "metadata": {
    "application/vnd.databricks.v1+cell": {
     "cellMetadata": {},
     "inputWidgets": {},
     "nuid": "0b864859-16b0-443e-9575-a701eccad453",
     "showTitle": false,
     "tableResultSettingsMap": {},
     "title": ""
    }
   },
   "outputs": [],
   "source": [
    "%sql\n",
    "create database if not exists hive_metastore.metadata_schema"
   ]
  },
  {
   "cell_type": "code",
   "execution_count": 0,
   "metadata": {
    "application/vnd.databricks.v1+cell": {
     "cellMetadata": {},
     "inputWidgets": {},
     "nuid": "e2b790f6-5249-483c-b9cd-c926962c027d",
     "showTitle": false,
     "tableResultSettingsMap": {},
     "title": ""
    }
   },
   "outputs": [],
   "source": [
    "#tbl_source_control holds the parameters values for various connections\n",
    "spark.sql(f\"\"\"\n",
    "create or replace table metadata_schema.tbl_source_control (\n",
    "    source_ref_id string,\n",
    "    job_id int,\n",
    "    server_name string,\n",
    "    host_name string,\n",
    "    port int,\n",
    "    database_name string,\n",
    "    user_name string,\n",
    "    secret_name string,\n",
    "    storage_account string,\n",
    "    adls_url string,\n",
    "    container_name string,\n",
    "    logic_app_url string,\n",
    "    email_id string\n",
    ")\n",
    "location 'abfss://metadata@{storage_account_name}.dfs.core.windows.net/tbl_source_control'\n",
    "\"\"\")"
   ]
  },
  {
   "cell_type": "code",
   "execution_count": 0,
   "metadata": {
    "application/vnd.databricks.v1+cell": {
     "cellMetadata": {},
     "inputWidgets": {},
     "nuid": "4e794cf4-a44d-4628-9060-5489f9c61016",
     "showTitle": false,
     "tableResultSettingsMap": {},
     "title": ""
    }
   },
   "outputs": [],
   "source": [
    "# tbl_parameters holds the parameter values for bronze, silver and gold layer tables\n",
    "spark.sql(f\"\"\"\n",
    "create or replace table metadata_schema.tbl_parameters (\n",
    "\n",
    "    job_id int,\n",
    "    source_file_or_table_name string,\n",
    "    source_file_path string,\n",
    "    adls_file_path string,\n",
    "    bronze_schema string,\n",
    "    bronze_tbl string,\n",
    "    silver_schema string,\n",
    "    silver_tbl string,\n",
    "    gold_schema string,\n",
    "    gold_tbl string\n",
    ")\n",
    "location 'abfss://metadata@{storage_account_name}.dfs.core.windows.net/tbl_parameters'\n",
    "\"\"\")"
   ]
  }
 ],
 "metadata": {
  "application/vnd.databricks.v1+notebook": {
   "computePreferences": null,
   "dashboards": [],
   "environmentMetadata": {
    "base_environment": "",
    "client": "1"
   },
   "language": "python",
   "notebookMetadata": {
    "pythonIndentUnit": 4
   },
   "notebookName": "METADATA Tables",
   "widgets": {}
  },
  "language_info": {
   "name": "python"
  }
 },
 "nbformat": 4,
 "nbformat_minor": 0
}