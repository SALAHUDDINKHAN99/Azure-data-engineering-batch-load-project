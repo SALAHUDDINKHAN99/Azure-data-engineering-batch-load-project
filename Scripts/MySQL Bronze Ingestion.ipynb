{
 "cells": [
  {
   "cell_type": "code",
   "execution_count": 0,
   "metadata": {
    "application/vnd.databricks.v1+cell": {
     "cellMetadata": {
      "byteLimit": 2048000,
      "rowLimit": 10000
     },
     "inputWidgets": {},
     "nuid": "93c5ee2d-aa89-4fd2-bba3-b2b56dc6db00",
     "showTitle": false,
     "tableResultSettingsMap": {},
     "title": ""
    }
   },
   "outputs": [],
   "source": [
    "dbutils.widgets.text(\"bronze_table\", \"\")\n",
    "bronze_table = dbutils.widgets.get(\"bronze_table\")\n",
    "\n",
    "dbutils.widgets.text(\"bronze_schema\", \"\")\n",
    "bronze_schema = dbutils.widgets.get(\"bronze_schema\")\n",
    "\n",
    "dbutils.widgets.text(\"source_file_name\", \"\")\n",
    "source_file_name = dbutils.widgets.get(\"source_file_name\")\n",
    "\n",
    "dbutils.widgets.text(\"storage_account_name\", \"\")\n",
    "storage_account_name = dbutils.widgets.get(\"storage_account_name\")\n",
    "\n",
    "dbutils.widgets.text(\"LoadID\", \"\")\n",
    "LoadID = dbutils.widgets.get(\"LoadID\")\n",
    "\n",
    "dbutils.widgets.text(\"env\", \"\")\n",
    "env = dbutils.widgets.get(\"env\")"
   ]
  },
  {
   "cell_type": "code",
   "execution_count": 0,
   "metadata": {
    "application/vnd.databricks.v1+cell": {
     "cellMetadata": {},
     "inputWidgets": {},
     "nuid": "047245e1-6117-4b89-8df8-2a98d96d2371",
     "showTitle": false,
     "tableResultSettingsMap": {},
     "title": ""
    }
   },
   "outputs": [],
   "source": [
    "#storing source_file data in a dataframe\n",
    "file_path = f\"abfss://landing@{storage_account_name}.dfs.core.windows.net/target_mysql_files/{source_file_name}\"\n",
    "df = spark.read.parquet(file_path, header = 'true')"
   ]
  },
  {
   "cell_type": "markdown",
   "metadata": {
    "application/vnd.databricks.v1+cell": {
     "cellMetadata": {},
     "inputWidgets": {},
     "nuid": "1f64d174-404a-4806-beb1-1464e8c75e00",
     "showTitle": false,
     "tableResultSettingsMap": {},
     "title": ""
    }
   },
   "source": [
    "**Transformation for checking if the column names and first row has same values then we filter that using the below code**"
   ]
  },
  {
   "cell_type": "code",
   "execution_count": 0,
   "metadata": {
    "application/vnd.databricks.v1+cell": {
     "cellMetadata": {
      "byteLimit": 2048000,
      "rowLimit": 10000
     },
     "inputWidgets": {},
     "nuid": "cf3d251c-a3f4-4365-ab4e-eac83c30b348",
     "showTitle": false,
     "tableResultSettingsMap": {},
     "title": ""
    }
   },
   "outputs": [
    {
     "output_type": "display_data",
     "data": {
      "text/plain": [
       "\u001B[0;31m---------------------------------------------------------------------------\u001B[0m\n",
       "\u001B[0;31mNameError\u001B[0m                                 Traceback (most recent call last)\n",
       "File \u001B[0;32m<command-1547699813367284>, line 4\u001B[0m\n",
       "\u001B[1;32m      1\u001B[0m \u001B[38;5;28;01mfrom\u001B[39;00m \u001B[38;5;21;01mpyspark\u001B[39;00m\u001B[38;5;21;01m.\u001B[39;00m\u001B[38;5;21;01msql\u001B[39;00m\u001B[38;5;21;01m.\u001B[39;00m\u001B[38;5;21;01mfunctions\u001B[39;00m \u001B[38;5;28;01mimport\u001B[39;00m col\n",
       "\u001B[1;32m      3\u001B[0m \u001B[38;5;66;03m#getting the first column by using 0th index from columns array\u001B[39;00m\n",
       "\u001B[0;32m----> 4\u001B[0m first_column_name \u001B[38;5;241m=\u001B[39m dff\u001B[38;5;241m.\u001B[39mcolumns[\u001B[38;5;241m0\u001B[39m] \n",
       "\u001B[1;32m      6\u001B[0m \u001B[38;5;66;03m#getting the first row first column value from the dataframe\u001B[39;00m\n",
       "\u001B[1;32m      7\u001B[0m first_col_value \u001B[38;5;241m=\u001B[39m df\u001B[38;5;241m.\u001B[39mcollect()[\u001B[38;5;241m0\u001B[39m][\u001B[38;5;241m0\u001B[39m]\n",
       "\n",
       "\u001B[0;31mNameError\u001B[0m: name 'dff' is not defined"
      ]
     },
     "metadata": {
      "application/vnd.databricks.v1+output": {
       "addedWidgets": {},
       "arguments": {},
       "datasetInfos": [],
       "jupyterProps": {
        "ename": "NameError",
        "evalue": "name 'dff' is not defined"
       },
       "metadata": {
        "errorSummary": "<span class='ansi-red-fg'>NameError</span>: name 'dff' is not defined"
       },
       "removedWidgets": [],
       "sqlProps": null,
       "stackFrames": [
        "\u001B[0;31m---------------------------------------------------------------------------\u001B[0m",
        "\u001B[0;31mNameError\u001B[0m                                 Traceback (most recent call last)",
        "File \u001B[0;32m<command-1547699813367284>, line 4\u001B[0m\n\u001B[1;32m      1\u001B[0m \u001B[38;5;28;01mfrom\u001B[39;00m \u001B[38;5;21;01mpyspark\u001B[39;00m\u001B[38;5;21;01m.\u001B[39;00m\u001B[38;5;21;01msql\u001B[39;00m\u001B[38;5;21;01m.\u001B[39;00m\u001B[38;5;21;01mfunctions\u001B[39;00m \u001B[38;5;28;01mimport\u001B[39;00m col\n\u001B[1;32m      3\u001B[0m \u001B[38;5;66;03m#getting the first column by using 0th index from columns array\u001B[39;00m\n\u001B[0;32m----> 4\u001B[0m first_column_name \u001B[38;5;241m=\u001B[39m dff\u001B[38;5;241m.\u001B[39mcolumns[\u001B[38;5;241m0\u001B[39m] \n\u001B[1;32m      6\u001B[0m \u001B[38;5;66;03m#getting the first row first column value from the dataframe\u001B[39;00m\n\u001B[1;32m      7\u001B[0m first_col_value \u001B[38;5;241m=\u001B[39m df\u001B[38;5;241m.\u001B[39mcollect()[\u001B[38;5;241m0\u001B[39m][\u001B[38;5;241m0\u001B[39m]\n",
        "\u001B[0;31mNameError\u001B[0m: name 'dff' is not defined"
       ],
       "type": "baseError"
      }
     },
     "output_type": "display_data"
    }
   ],
   "source": [
    "from pyspark.sql.functions import col\n",
    "\n",
    "#getting the first column by using 0th index from columns array\n",
    "first_column_name = df.columns[0] \n",
    "\n",
    "#getting the first row first column value from the dataframe\n",
    "first_col_value = df.collect()[0][0]\n",
    "\n",
    "# Filter out the first row where the value in the first column matches the column name\n",
    "df = df.filter(col(first_column_name) != first_col_value)\n",
    "source_file_records_count = df.count()\n",
    "\n",
    "#creating temporary view from the df dataframe\n",
    "df.createOrReplaceTempView('temp_view')"
   ]
  },
  {
   "cell_type": "code",
   "execution_count": 0,
   "metadata": {
    "application/vnd.databricks.v1+cell": {
     "cellMetadata": {},
     "inputWidgets": {},
     "nuid": "87090061-a71e-407c-ac63-d21cc6922b6a",
     "showTitle": false,
     "tableResultSettingsMap": {},
     "title": ""
    }
   },
   "outputs": [],
   "source": [
    "#insert records into bronze layer table\n",
    "spark.sql(f\"\"\"\n",
    "          \n",
    "    insert into {bronze_schema}.{bronze_table} select *, from_utc_timestamp(now(), 'IST'), '{LoadID}' from temp_view;\n",
    "\"\"\")"
   ]
  },
  {
   "cell_type": "code",
   "execution_count": 0,
   "metadata": {
    "application/vnd.databricks.v1+cell": {
     "cellMetadata": {},
     "inputWidgets": {},
     "nuid": "89a581f9-695c-4015-ae9e-7b36cd1c33bc",
     "showTitle": false,
     "tableResultSettingsMap": {},
     "title": ""
    }
   },
   "outputs": [],
   "source": [
    "bronze_tbl_count = spark.sql(f\"select * from {bronze_schema}.{bronze_table} where load_id = '{LoadID}'\").count()"
   ]
  },
  {
   "cell_type": "code",
   "execution_count": 0,
   "metadata": {
    "application/vnd.databricks.v1+cell": {
     "cellMetadata": {},
     "inputWidgets": {},
     "nuid": "dbfea9ed-57d9-4c94-a200-508256676c13",
     "showTitle": false,
     "tableResultSettingsMap": {},
     "title": ""
    }
   },
   "outputs": [],
   "source": [
    "#return records to azure data factory\n",
    "dbutils.notebook.exit([source_file_records_count, bronze_tbl_count])"
   ]
  }
 ],
 "metadata": {
  "application/vnd.databricks.v1+notebook": {
   "computePreferences": null,
   "dashboards": [],
   "environmentMetadata": null,
   "language": "python",
   "notebookMetadata": {
    "pythonIndentUnit": 4
   },
   "notebookName": "mysql_bronze_ingestion",
   "widgets": {
    "LoadID": {
     "currentValue": "",
     "nuid": "f35d06bc-891f-4047-ba68-1be0e67d789c",
     "typedWidgetInfo": {
      "autoCreated": false,
      "defaultValue": "",
      "label": null,
      "name": "LoadID",
      "options": {
       "widgetDisplayType": "Text",
       "validationRegex": null
      },
      "parameterDataType": "String"
     },
     "widgetInfo": {
      "widgetType": "text",
      "defaultValue": "",
      "label": null,
      "name": "LoadID",
      "options": {
       "widgetType": "text",
       "autoCreated": null,
       "validationRegex": null
      }
     }
    },
    "bronze_schema": {
     "currentValue": "",
     "nuid": "9364244b-9458-42f4-84b0-ecf8a5d68867",
     "typedWidgetInfo": {
      "autoCreated": false,
      "defaultValue": "",
      "label": null,
      "name": "bronze_schema",
      "options": {
       "widgetDisplayType": "Text",
       "validationRegex": null
      },
      "parameterDataType": "String"
     },
     "widgetInfo": {
      "widgetType": "text",
      "defaultValue": "",
      "label": null,
      "name": "bronze_schema",
      "options": {
       "widgetType": "text",
       "autoCreated": null,
       "validationRegex": null
      }
     }
    },
    "bronze_table": {
     "currentValue": "",
     "nuid": "a0d4defe-d2e4-4811-b6b2-b0458893f8ab",
     "typedWidgetInfo": {
      "autoCreated": false,
      "defaultValue": "",
      "label": null,
      "name": "bronze_table",
      "options": {
       "widgetDisplayType": "Text",
       "validationRegex": null
      },
      "parameterDataType": "String"
     },
     "widgetInfo": {
      "widgetType": "text",
      "defaultValue": "",
      "label": null,
      "name": "bronze_table",
      "options": {
       "widgetType": "text",
       "autoCreated": null,
       "validationRegex": null
      }
     }
    },
    "env": {
     "currentValue": "",
     "nuid": "2c7aa932-9bb7-4bbc-af83-6b80f1a21fe7",
     "typedWidgetInfo": {
      "autoCreated": false,
      "defaultValue": "",
      "label": null,
      "name": "env",
      "options": {
       "widgetDisplayType": "Text",
       "validationRegex": null
      },
      "parameterDataType": "String"
     },
     "widgetInfo": {
      "widgetType": "text",
      "defaultValue": "",
      "label": null,
      "name": "env",
      "options": {
       "widgetType": "text",
       "autoCreated": null,
       "validationRegex": null
      }
     }
    },
    "source_file_name": {
     "currentValue": "",
     "nuid": "fa2365d6-ebbe-4f1d-992c-3b70ab00fc42",
     "typedWidgetInfo": {
      "autoCreated": false,
      "defaultValue": "",
      "label": null,
      "name": "source_file_name",
      "options": {
       "widgetDisplayType": "Text",
       "validationRegex": null
      },
      "parameterDataType": "String"
     },
     "widgetInfo": {
      "widgetType": "text",
      "defaultValue": "",
      "label": null,
      "name": "source_file_name",
      "options": {
       "widgetType": "text",
       "autoCreated": null,
       "validationRegex": null
      }
     }
    },
    "storage_account_name": {
     "currentValue": "",
     "nuid": "7163470f-4891-47cc-b272-d0abefb008f1",
     "typedWidgetInfo": {
      "autoCreated": false,
      "defaultValue": "",
      "label": null,
      "name": "storage_account_name",
      "options": {
       "widgetDisplayType": "Text",
       "validationRegex": null
      },
      "parameterDataType": "String"
     },
     "widgetInfo": {
      "widgetType": "text",
      "defaultValue": "",
      "label": null,
      "name": "storage_account_name",
      "options": {
       "widgetType": "text",
       "autoCreated": null,
       "validationRegex": null
      }
     }
    }
   }
  },
  "language_info": {
   "name": "python"
  }
 },
 "nbformat": 4,
 "nbformat_minor": 0
}