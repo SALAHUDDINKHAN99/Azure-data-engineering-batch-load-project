{
 "cells": [
  {
   "cell_type": "markdown",
   "metadata": {
    "application/vnd.databricks.v1+cell": {
     "cellMetadata": {},
     "inputWidgets": {},
     "nuid": "ef1fbf82-5333-45b1-b2dd-3df9f8943dd1",
     "showTitle": false,
     "tableResultSettingsMap": {},
     "title": ""
    }
   },
   "source": [
    "### Lookup Activity\n"
   ]
  },
  {
   "cell_type": "code",
   "execution_count": 0,
   "metadata": {
    "application/vnd.databricks.v1+cell": {
     "cellMetadata": {},
     "inputWidgets": {},
     "nuid": "ed9d264e-340f-4083-be27-0f4c836b1dc9",
     "showTitle": false,
     "tableResultSettingsMap": {},
     "title": ""
    }
   },
   "outputs": [],
   "source": [
    "@concat('SELECT control.source_ref_id,control.job_id, control.server_name, control.port, control.database_name, control.user_name, control.secret_name, control.storage_account, control.adls_url, control.container_name, control.logic_app_url, control.email_id,param.source_file_or_table_name, param.adls_file_path, param.bronze_schema, param.bronze_tbl, param.silver_schema, param.silver_tbl, param.gold_schema, param.gold_tbl FROM ',pipeline().parameters.metadata_database,'.tbl_source_control control JOIN ',pipeline().parameters.metadata_database,'.tbl_parameters param ON control.job_id = param.job_id WHERE param.job_id = ', pipeline().parameters.job_id)"
   ]
  },
  {
   "cell_type": "markdown",
   "metadata": {
    "application/vnd.databricks.v1+cell": {
     "cellMetadata": {},
     "inputWidgets": {},
     "nuid": "f06371a5-4fd0-4d01-b16d-68014a5cb9a7",
     "showTitle": false,
     "tableResultSettingsMap": {},
     "title": ""
    }
   },
   "source": [
    "\n",
    "### Set Variable"
   ]
  },
  {
   "cell_type": "code",
   "execution_count": 0,
   "metadata": {
    "application/vnd.databricks.v1+cell": {
     "cellMetadata": {},
     "inputWidgets": {},
     "nuid": "e811fc3f-5ef0-4d3f-b33d-7d78d2479a3d",
     "showTitle": false,
     "tableResultSettingsMap": {},
     "title": ""
    }
   },
   "outputs": [],
   "source": [
    "@formatDateTime(convertFromUtc(utcNow(),'India Standard Time'),'yyyy-MM-dd HH:mm:ss')"
   ]
  },
  {
   "cell_type": "markdown",
   "metadata": {
    "application/vnd.databricks.v1+cell": {
     "cellMetadata": {},
     "inputWidgets": {},
     "nuid": "18270ca6-be97-4d49-ae66-08dc3a072f1d",
     "showTitle": false,
     "tableResultSettingsMap": {},
     "title": ""
    }
   },
   "source": [
    "### IF activity"
   ]
  },
  {
   "cell_type": "code",
   "execution_count": 0,
   "metadata": {
    "application/vnd.databricks.v1+cell": {
     "cellMetadata": {},
     "inputWidgets": {},
     "nuid": "3a93fbab-b48d-488d-9641-3b1a8243a6cd",
     "showTitle": false,
     "tableResultSettingsMap": {},
     "title": ""
    }
   },
   "outputs": [],
   "source": [
    "@equals(activity('Copy table records').output.rowsRead,activity('Copy table records').output.rowsCopied)"
   ]
  },
  {
   "cell_type": "markdown",
   "metadata": {
    "application/vnd.databricks.v1+cell": {
     "cellMetadata": {},
     "inputWidgets": {},
     "nuid": "55c31036-aa65-4c22-a33b-e90ca909ef80",
     "showTitle": false,
     "tableResultSettingsMap": {},
     "title": ""
    }
   },
   "source": [
    "### WEB activity \n",
    "#### Pipeline In progress mail"
   ]
  },
  {
   "cell_type": "code",
   "execution_count": 0,
   "metadata": {
    "application/vnd.databricks.v1+cell": {
     "cellMetadata": {},
     "inputWidgets": {},
     "nuid": "d7dff45f-99e9-42af-8c29-b2927e2a40b5",
     "showTitle": false,
     "tableResultSettingsMap": {},
     "title": ""
    }
   },
   "outputs": [],
   "source": [
    "{\n",
    "    \"to\":\"@{activity('metadata_lookup').output.value[0].email_id}\",\n",
    "    \"subject\":\" @{concat('[',pipeline().globalParameters.env,']',pipeline().Pipeline,':[InProgress]')}\",\n",
    "    \"email_body\":\"\n",
    "   \n",
    "    <!DOCTYPE html>\n",
    "<html>\n",
    "<body>\n",
    "    Hi all,<br/>\n",
    "    Please find below the status for @{pipeline().Pipeline}<br/><br/>\n",
    "    \n",
    "    <table>\n",
    "        <tr>\n",
    "            <th style='text-align: left;'>Parameters</th>\n",
    "            <th style='text-align: left;'>Value</th>\n",
    "        </tr>\n",
    "        <tr>\n",
    "            <td>JobID</td>\n",
    "            <td>@{pipeline().parameters.job_id}</td>\n",
    "        </tr>\n",
    "        <tr>\n",
    "            <td>Status</td>\n",
    "            <td><span style='color:Red;background-color:yellow;'>In Progress</span></td>\n",
    "        </tr>\n",
    "        <tr>\n",
    "            <td>Scheduled</td>\n",
    "            <td>@{pipeline().TriggerType}</td>\n",
    "        </tr>\n",
    "        <tr>\n",
    "            <td>LoadID</td>\n",
    "            <td>@{pipeline().RunId}</td>\n",
    "        </tr>\n",
    "        <tr>\n",
    "            <td>JobStart</td>\n",
    "            <td>@{variables('start_time')}</td>\n",
    "        </tr>\n",
    "    </table><br/><br/><br/>\n",
    "    \n",
    "    <p>QtrEnergy Team.</p>\n",
    "</body>\n",
    "</html>\n",
    "    \"\n",
    "}\n",
    "\n",
    "\n"
   ]
  },
  {
   "cell_type": "markdown",
   "metadata": {
    "application/vnd.databricks.v1+cell": {
     "cellMetadata": {},
     "inputWidgets": {},
     "nuid": "1afe65ad-434e-4c20-a2bb-225ba862ff8c",
     "showTitle": false,
     "tableResultSettingsMap": {},
     "title": ""
    }
   },
   "source": [
    "### WEB activity \n",
    "#### Source File Copy Failed mail"
   ]
  },
  {
   "cell_type": "code",
   "execution_count": 0,
   "metadata": {
    "application/vnd.databricks.v1+cell": {
     "cellMetadata": {},
     "inputWidgets": {},
     "nuid": "af94ee6d-5eba-4ffd-81a2-a302be9a3209",
     "showTitle": false,
     "tableResultSettingsMap": {},
     "title": ""
    }
   },
   "outputs": [],
   "source": [
    "{\n",
    "    \"to\":\"@{item().email_id}\",\n",
    "    \"subject\":\" @{concat('[',pipeline().globalParameters.env,']',pipeline().Pipeline,':[Source File Copy Failed]')}\",\n",
    "    \"email_body\":\"\n",
    "   \n",
    "    <!DOCTYPE html>\n",
    "<html>\n",
    "<body>\n",
    "    Hi all,<br/>\n",
    "    Please find below the status for @{pipeline().Pipeline}<br/><br/>\n",
    "    \n",
    "    <table>\n",
    "        <tr>\n",
    "            <th style='text-align: left;'>Parameters</th>\n",
    "            <th style='text-align: left;'>Value</th>\n",
    "        </tr>\n",
    "        <tr>\n",
    "            <td>JobID</td>\n",
    "            <td>@{pipeline().parameters.job_id}</td>\n",
    "        </tr>\n",
    "        <tr>\n",
    "            <td>Status</td>\n",
    "            <td><span style='color:Red;background-color:yellow';>Failed</span></td>\n",
    "        </tr>\n",
    "        <tr>\n",
    "            <td>Scheduled</td>\n",
    "            <td>@{pipeline().TriggerType}</td>\n",
    "        </tr>\n",
    "        <tr>\n",
    "            <td>LoadID</td>\n",
    "            <td>@{pipeline().RunId}</td>\n",
    "        </tr>\n",
    "        <tr>\n",
    "            <td>JobStart</td>\n",
    "            <td>@{variables('start_time')}</td>\n",
    "        </tr>\n",
    "        <tr>\n",
    "            <td>FileName</td>\n",
    "            <td>@{item().source_file_or_table_name}</td>\n",
    "        </tr>\n",
    "        <tr>\n",
    "            <td>Error</td>\n",
    "            <td>@{activity('Copy table records').Error.message\n",
    "}</td>\n",
    "        </tr>\n",
    "    </table><br/><br/><br/>\n",
    "    \n",
    "    <p>QtrEnergy team.</p>\n",
    "</body>\n",
    "</html>\n",
    "    \"\n",
    "}"
   ]
  },
  {
   "cell_type": "markdown",
   "metadata": {
    "application/vnd.databricks.v1+cell": {
     "cellMetadata": {},
     "inputWidgets": {},
     "nuid": "2e360c26-5d81-4b52-9edf-088c89fae0f2",
     "showTitle": false,
     "tableResultSettingsMap": {},
     "title": ""
    }
   },
   "source": [
    "![testimg](files/Project_Architecture.png)"
   ]
  },
  {
   "cell_type": "markdown",
   "metadata": {
    "application/vnd.databricks.v1+cell": {
     "cellMetadata": {},
     "inputWidgets": {},
     "nuid": "7881ed98-cb0e-4c05-81e2-2f801eee8d9d",
     "showTitle": false,
     "tableResultSettingsMap": {},
     "title": ""
    }
   },
   "source": [
    "* list1\n",
    "* list2"
   ]
  },
  {
   "cell_type": "markdown",
   "metadata": {
    "application/vnd.databricks.v1+cell": {
     "cellMetadata": {},
     "inputWidgets": {},
     "nuid": "36ce8f06-a490-4b01-bb4e-903d257348a5",
     "showTitle": false,
     "tableResultSettingsMap": {},
     "title": ""
    }
   },
   "source": [
    "- kbkb\n",
    "  - jbkb"
   ]
  },
  {
   "cell_type": "code",
   "execution_count": 0,
   "metadata": {
    "application/vnd.databricks.v1+cell": {
     "cellMetadata": {
      "byteLimit": 2048000,
      "rowLimit": 10000
     },
     "inputWidgets": {},
     "nuid": "f6f0e9b5-ff5d-45a0-9573-a7da336cdac8",
     "showTitle": false,
     "tableResultSettingsMap": {},
     "title": ""
    }
   },
   "outputs": [
    {
     "output_type": "display_data",
     "data": {
      "image/png": "[encoded data removed]",
      "text/plain": [
       "<IPython.core.display.Image object>"
      ]
     },
     "metadata": {},
     "output_type": "display_data"
    }
   ],
   "source": [
    "from IPython.display import Image, display\n",
    "display(Image(\"https://raw.githubusercontent.com/SALAHUDDINKHAN99/Azure-data-engineering-batch-load-project/main/Images/sql%20To%20Landing%20Container%201.png\"))\n"
   ]
  },
  {
   "cell_type": "code",
   "execution_count": 0,
   "metadata": {
    "application/vnd.databricks.v1+cell": {
     "cellMetadata": {},
     "inputWidgets": {},
     "nuid": "f3a9a800-d9e2-415f-8eda-28691280e7e8",
     "showTitle": false,
     "tableResultSettingsMap": {},
     "title": ""
    }
   },
   "outputs": [],
   "source": []
  }
 ],
 "metadata": {
  "application/vnd.databricks.v1+notebook": {
   "computePreferences": null,
   "dashboards": [],
   "environmentMetadata": {
    "base_environment": "",
    "client": "1"
   },
   "language": "python",
   "notebookMetadata": {
    "pythonIndentUnit": 4
   },
   "notebookName": "Sql to Landing Activity Code Snippets",
   "widgets": {}
  },
  "language_info": {
   "name": "python"
  }
 },
 "nbformat": 4,
 "nbformat_minor": 0
}